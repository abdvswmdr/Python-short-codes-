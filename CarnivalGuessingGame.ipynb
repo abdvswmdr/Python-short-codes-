{
 "cells": [
  {
   "cell_type": "code",
   "execution_count": 37,
   "id": "f2fd6b3b",
   "metadata": {},
   "outputs": [],
   "source": [
    "# Function to Mimic the Carnival guessing game \"Three Cup Monte\"\n",
    "# Our simple game won't actually show the cups or ball, instead we will simply mimic the effect with a Python list. \n",
    "# Our simple version will also not show the shuffle to the user, so the guess is completely random\n"
   ]
  },
  {
   "cell_type": "code",
   "execution_count": 38,
   "id": "9eb68bc6",
   "metadata": {},
   "outputs": [],
   "source": [
    "# How to shuffle list randomnly\n",
    "example = [1,2,3,4,5,6,7]"
   ]
  },
  {
   "cell_type": "code",
   "execution_count": 39,
   "id": "b2d7dd20",
   "metadata": {},
   "outputs": [],
   "source": [
    "from random import shuffle "
   ]
  },
  {
   "cell_type": "code",
   "execution_count": 40,
   "id": "691499a8",
   "metadata": {},
   "outputs": [],
   "source": [
    "shuffle(example)"
   ]
  },
  {
   "cell_type": "code",
   "execution_count": 43,
   "id": "226f7677",
   "metadata": {},
   "outputs": [
    {
     "data": {
      "text/plain": [
       "[7, 1, 4, 3, 5, 2, 6]"
      ]
     },
     "execution_count": 43,
     "metadata": {},
     "output_type": "execute_result"
    }
   ],
   "source": [
    "example"
   ]
  },
  {
   "cell_type": "code",
   "execution_count": 44,
   "id": "a9284906",
   "metadata": {},
   "outputs": [],
   "source": [
    "# Creating the function \n",
    "def shuffle_list(mylist): \n",
    "    shuffle(mylist)\n",
    "    return mylist"
   ]
  },
  {
   "cell_type": "code",
   "execution_count": 45,
   "id": "b2d787b6",
   "metadata": {},
   "outputs": [],
   "source": [
    "result = shuffle_list(example)\n"
   ]
  },
  {
   "cell_type": "code",
   "execution_count": 48,
   "id": "714f1f9d",
   "metadata": {},
   "outputs": [
    {
     "data": {
      "text/plain": [
       "[3, 6, 2, 1, 4, 5, 7]"
      ]
     },
     "execution_count": 48,
     "metadata": {},
     "output_type": "execute_result"
    }
   ],
   "source": [
    "result"
   ]
  },
  {
   "cell_type": "code",
   "execution_count": 49,
   "id": "e872ab5b",
   "metadata": {},
   "outputs": [],
   "source": [
    "# Creating the game list, where the user find the hidden capital O = hidden ball\n",
    "mylist = [\" \", \"0\", \" \"]"
   ]
  },
  {
   "cell_type": "code",
   "execution_count": 50,
   "id": "84f640f3",
   "metadata": {},
   "outputs": [
    {
     "data": {
      "text/plain": [
       "[' ', ' ', '0']"
      ]
     },
     "execution_count": 50,
     "metadata": {},
     "output_type": "execute_result"
    }
   ],
   "source": [
    "shuffle_list(mylist)"
   ]
  },
  {
   "cell_type": "code",
   "execution_count": 51,
   "id": "a4928b33",
   "metadata": {},
   "outputs": [],
   "source": [
    "# Game Main Function\n",
    "def player_guess(): \n",
    "    \n",
    "    guess = \" \"\n",
    "    \n",
    "    while guess not in [\"0\", \"1\", \"2\"]:\n",
    "        guess = input(\"Pick a number: 0, 1 or 2\")\n",
    "        \n",
    "    return int(guess)"
   ]
  },
  {
   "cell_type": "code",
   "execution_count": 53,
   "id": "7ad74590",
   "metadata": {},
   "outputs": [
    {
     "name": "stdout",
     "output_type": "stream",
     "text": [
      "Pick a number: 0, 1 or 22\n"
     ]
    },
    {
     "data": {
      "text/plain": [
       "2"
      ]
     },
     "execution_count": 53,
     "metadata": {},
     "output_type": "execute_result"
    }
   ],
   "source": [
    "player_guess()\n"
   ]
  },
  {
   "cell_type": "code",
   "execution_count": 54,
   "id": "701c66e6",
   "metadata": {},
   "outputs": [
    {
     "name": "stdout",
     "output_type": "stream",
     "text": [
      "Pick a number: 0, 1 or 22\n"
     ]
    }
   ],
   "source": [
    "myindex = player_guess()"
   ]
  },
  {
   "cell_type": "code",
   "execution_count": 55,
   "id": "0893a75a",
   "metadata": {},
   "outputs": [
    {
     "data": {
      "text/plain": [
       "2"
      ]
     },
     "execution_count": 55,
     "metadata": {},
     "output_type": "execute_result"
    }
   ],
   "source": [
    "myindex"
   ]
  },
  {
   "cell_type": "code",
   "execution_count": 56,
   "id": "7241da56",
   "metadata": {},
   "outputs": [],
   "source": [
    "def check_guess(mylist,guess): \n",
    "    if mylist[guess] == \"O\": \n",
    "        print(\"Correct!\")\n",
    "    else: \n",
    "        print(\"Wrong guess!\")\n",
    "        print(mylist)"
   ]
  },
  {
   "cell_type": "code",
   "execution_count": 63,
   "id": "c8977d78",
   "metadata": {},
   "outputs": [
    {
     "name": "stdout",
     "output_type": "stream",
     "text": [
      "Pick a number: 0, 1 or 21\n",
      "Correct!\n"
     ]
    }
   ],
   "source": [
    "# INITIAL LIST\n",
    "mylist = [\" \", \"O\", \" \"]\n",
    "\n",
    "# SHUFFLE LIST\n",
    "mixedup_list = shuffle_list(mylist)\n",
    "\n",
    "# USER GUESS\n",
    "guess = player_guess()\n",
    "\n",
    "# CHECK GUESS\n",
    "check_guess(mixedup_list, guess)"
   ]
  },
  {
   "cell_type": "code",
   "execution_count": null,
   "id": "312d0663",
   "metadata": {},
   "outputs": [],
   "source": []
  }
 ],
 "metadata": {
  "kernelspec": {
   "display_name": "Python 3 (ipykernel)",
   "language": "python",
   "name": "python3"
  },
  "language_info": {
   "codemirror_mode": {
    "name": "ipython",
    "version": 3
   },
   "file_extension": ".py",
   "mimetype": "text/x-python",
   "name": "python",
   "nbconvert_exporter": "python",
   "pygments_lexer": "ipython3",
   "version": "3.9.7"
  }
 },
 "nbformat": 4,
 "nbformat_minor": 5
}
